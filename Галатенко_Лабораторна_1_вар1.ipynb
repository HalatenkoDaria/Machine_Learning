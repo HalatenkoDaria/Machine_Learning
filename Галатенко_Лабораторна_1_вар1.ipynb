{
  "cells": [
    {
      "cell_type": "markdown",
      "metadata": {
        "id": "znl5rI_SrFBv"
      },
      "source": [
        "# **Лабораторна робота №1 Вступ до машинного навчання.Елементи лінійної алгебри**\n",
        "Варіант 1\\\n",
        "Галатенко Дарія Іванівна 3-16\n",
        "# Завдання 1.\n",
        "1. Створіть одновимірний масив (вектор) з першими 10-ма натуральними числами та\n",
        "виведіть його значення."
      ]
    },
    {
      "cell_type": "code",
      "execution_count": null,
      "metadata": {
        "id": "JYFGP63CrFBx",
        "outputId": "c6661f27-3df0-49de-ca7c-674db25296b9"
      },
      "outputs": [
        {
          "name": "stdout",
          "output_type": "stream",
          "text": [
            "Одновимірний масив (вектор): [ 1  2  3  4  5  6  7  8  9 10]\n"
          ]
        }
      ],
      "source": [
        "import numpy as np\n",
        "\n",
        "# Створення вектора з першими 10-ма натуральними числами\n",
        "vector = np.arange(1, 11)\n",
        "\n",
        "# Виведення значення вектора\n",
        "print(\"Одновимірний масив (вектор):\", vector)"
      ]
    },
    {
      "cell_type": "markdown",
      "metadata": {
        "id": "H0v20xIrrFBz"
      },
      "source": [
        "# Завдання 2\n",
        "1. Створіть двовимірний масив (матрицю) розміром 4x4, заповніть його одиницями та\n",
        "виведіть його значення."
      ]
    },
    {
      "cell_type": "code",
      "execution_count": null,
      "metadata": {
        "id": "qfC1r8YmrFBz",
        "outputId": "2cf64798-ad88-4a8f-c74d-12ade0cb4a01"
      },
      "outputs": [
        {
          "name": "stdout",
          "output_type": "stream",
          "text": [
            "[1 1 1 1]\n",
            "[1 1 1 1]\n",
            "[1 1 1 1]\n",
            "[1 1 1 1]\n"
          ]
        }
      ],
      "source": [
        "# Створення матриці 4x4, заповненої одиницями\n",
        "matr = np.ones((4, 4), dtype=int)\n",
        "\n",
        "# Виведення матриці\n",
        "for row in matr:\n",
        "    print(row)"
      ]
    },
    {
      "cell_type": "markdown",
      "metadata": {
        "id": "9ETt0p5lrFBz"
      },
      "source": [
        "# Завдання 3\n",
        "1. Створіть масив розміром 4x4, заповніть його випадковими цілими числами в діапазоні\n",
        "від 1 до 5 та виведіть його значення."
      ]
    },
    {
      "cell_type": "code",
      "execution_count": null,
      "metadata": {
        "id": "ski5DsJkrFBz",
        "outputId": "ff00546b-5cc5-41fd-8588-4d40cf4d1edf"
      },
      "outputs": [
        {
          "name": "stdout",
          "output_type": "stream",
          "text": [
            "[3 3 2 3]\n",
            "[5 2 3 1]\n",
            "[2 1 4 5]\n",
            "[5 1 3 4]\n"
          ]
        }
      ],
      "source": [
        "# Створення матриці 4x4 із випадковими числами від 1 до 5\n",
        "matr = np.random.randint(1, 6, (4, 4))\n",
        "\n",
        "# Виведення матриці\n",
        "for row in matr:\n",
        "    print(row)"
      ]
    },
    {
      "cell_type": "markdown",
      "metadata": {
        "id": "2i3cj6JdrFB0"
      },
      "source": [
        "# Завдання 4\n",
        "1. Створіть масив розміром 3x3, заповніть його випадковими дійсними числами в\n",
        "діапазоні від 0 до 1 та виведіть його значення."
      ]
    },
    {
      "cell_type": "code",
      "execution_count": null,
      "metadata": {
        "id": "94bCKrgprFB0",
        "outputId": "cd0b7305-d29f-4b10-eeac-50fa77fb013d"
      },
      "outputs": [
        {
          "name": "stdout",
          "output_type": "stream",
          "text": [
            "[0.9258091  0.73873135 0.25911519]\n",
            "[0.02131954 0.77225392 0.12615863]\n",
            "[0.5847696  0.56880808 0.563596  ]\n"
          ]
        }
      ],
      "source": [
        "# Створення масиву 3x3 з випадковими дійсними числами від 0 до 1\n",
        "matr = np.random.random((3, 3))\n",
        "\n",
        "# Виведення масиву\n",
        "for row in matr:\n",
        "    print(row)"
      ]
    },
    {
      "cell_type": "markdown",
      "metadata": {
        "id": "jVSkTYPbrFB0"
      },
      "source": [
        "# Завдання 5\n",
        "1. Створіть два одновимірних масиви розміром 6, заповніть їх випадковими цілими\n",
        "числами в діапазоні від 1 до 20 та виконайте на них поелементні операції додавання, віднімання та множення."
      ]
    },
    {
      "cell_type": "code",
      "execution_count": null,
      "metadata": {
        "id": "DrqZvIyBrFB1",
        "outputId": "fa654fb9-4d63-48a4-bf98-e31c0b8d5160"
      },
      "outputs": [
        {
          "name": "stdout",
          "output_type": "stream",
          "text": [
            "Масив 1: [ 9 14 17 10 15 20]\n",
            "Масив 2: [ 9 13  4  4  9  7]\n",
            "Додавання: [18 27 21 14 24 27]\n",
            "Віднімання: [ 0  1 13  6  6 13]\n",
            "Множення: [ 81 182  68  40 135 140]\n"
          ]
        }
      ],
      "source": [
        "# Створення двох масивів розміром 6, заповнених випадковими цілими числами від 1 до 20\n",
        "array1 = np.random.randint(1, 21, 6)\n",
        "array2 = np.random.randint(1, 21, 6)\n",
        "\n",
        "# Виконання поелементних операцій\n",
        "addition = array1 + array2\n",
        "subtraction = array1 - array2\n",
        "multiplication = array1 * array2\n",
        "\n",
        "# Виведення результатів\n",
        "print(\"Масив 1:\", array1)\n",
        "print(\"Масив 2:\", array2)\n",
        "print(\"Додавання:\", addition)\n",
        "print(\"Віднімання:\", subtraction)\n",
        "print(\"Множення:\", multiplication)"
      ]
    },
    {
      "cell_type": "markdown",
      "metadata": {
        "id": "KD3nNcrSrFB1"
      },
      "source": [
        "# Завдання 6\n",
        "1. Створіть два матриці 2x2, заповніть їх довільними цілими числами та знайдіть їх\n",
        "добуток."
      ]
    },
    {
      "cell_type": "code",
      "execution_count": null,
      "metadata": {
        "id": "yq7NP-_VrFB1",
        "outputId": "c58c77d7-38d4-4529-a5b6-679f23436107"
      },
      "outputs": [
        {
          "name": "stdout",
          "output_type": "stream",
          "text": [
            "Матриця 1:\n",
            "[[1 7]\n",
            " [5 8]]\n",
            "\n",
            "Матриця 2:\n",
            "[[10  3]\n",
            " [ 5 10]]\n",
            "\n",
            "Добуток матриць:\n",
            "[[45 73]\n",
            " [90 95]]\n"
          ]
        }
      ],
      "source": [
        "# Створення двох матриць 2x2 з випадковими цілими числами від 1 до 11\n",
        "matr1 = np.random.randint(1, 11, (2, 2))\n",
        "matr2 = np.random.randint(1, 11, (2, 2))\n",
        "\n",
        "# Обчислення добутку матриць\n",
        "product = np.dot(matr1, matr2)\n",
        "\n",
        "# Виведення матриць та їхнього добутку\n",
        "print(\"Матриця 1:\")\n",
        "print(matr1)\n",
        "print(\"\\nМатриця 2:\")\n",
        "print(matr2)\n",
        "print(\"\\nДобуток матриць:\")\n",
        "print(product)"
      ]
    },
    {
      "cell_type": "markdown",
      "metadata": {
        "id": "iphcOhsRrFB1"
      },
      "source": [
        "# Завдання 7\n",
        "1. Створіть дві матриці розміром 3x2 та 2x4, заповніть їх випадковими цілими числами\n",
        "в діапазоні від 1 до 10 та перемножте їх між собою."
      ]
    },
    {
      "cell_type": "code",
      "execution_count": null,
      "metadata": {
        "id": "7ZKxw8rHrFB1",
        "outputId": "7a2b0ec3-b02f-4a02-f78a-181702265c47"
      },
      "outputs": [
        {
          "name": "stdout",
          "output_type": "stream",
          "text": [
            "Матриця 1 (3x2):\n",
            "[[3 9]\n",
            " [5 9]\n",
            " [3 5]]\n",
            "\n",
            "Матриця 2 (2x4):\n",
            "[[ 7  1  4  2]\n",
            " [ 1  6 10  8]]\n",
            "\n",
            "Добуток матриць:\n",
            "[[ 30  57 102  78]\n",
            " [ 44  59 110  82]\n",
            " [ 26  33  62  46]]\n"
          ]
        }
      ],
      "source": [
        "# Створення двох матриць 3x2 та 2x4 з випадковими цілими числами від 1 до 10\n",
        "matr1 = np.random.randint(1, 11, size=(3, 2))\n",
        "matr2 = np.random.randint(1, 11, size=(2, 4))\n",
        "\n",
        "# Виведення матриць\n",
        "print(\"Матриця 1 (3x2):\")\n",
        "print(matr1)\n",
        "\n",
        "print(\"\\nМатриця 2 (2x4):\")\n",
        "print(matr2)\n",
        "\n",
        "# Знаходження добутку матриць\n",
        "product = np.dot(matr1, matr2)\n",
        "\n",
        "# Виведення результату\n",
        "print(\"\\nДобуток матриць:\")\n",
        "print(product)"
      ]
    },
    {
      "cell_type": "markdown",
      "metadata": {
        "id": "OcFwV6xVrFB2"
      },
      "source": [
        "# Завдання 8\n",
        "1. Створіть матрицю розміром 2x2, заповніть її випадковими цілими числами в діапазоні\n",
        "від 1 до 7 та знайдіть її обернену матрицю."
      ]
    },
    {
      "cell_type": "code",
      "execution_count": null,
      "metadata": {
        "id": "mE8EzGgbrFB2",
        "outputId": "cfaf469f-dc19-47bf-844e-f716478f27af"
      },
      "outputs": [
        {
          "name": "stdout",
          "output_type": "stream",
          "text": [
            "Матриця 2x2:\n",
            "[[7 1]\n",
            " [6 2]]\n",
            "\n",
            "Обернена матриця:\n",
            "[[ 0.25  -0.125]\n",
            " [-0.75   0.875]]\n"
          ]
        }
      ],
      "source": [
        "# Створення матриці 2x2 з випадковими цілими числами в діапазоні від 1 до 7\n",
        "matr = np.random.randint(1, 8, size=(2, 2))\n",
        "\n",
        "# Виведення початкової матриці\n",
        "print(\"Матриця 2x2:\")\n",
        "print(matr)\n",
        "\n",
        "# Перевірка, чи є матриця невиродженою (її визначник не нульовий)\n",
        "det = np.linalg.det(matr)\n",
        "if det != 0:\n",
        "    # Обчислення оберненої матриці\n",
        "    inverse_matr = np.linalg.inv(matr)\n",
        "    print(\"\\nОбернена матриця:\")\n",
        "    print(inverse_matr)\n",
        "else:\n",
        "    print(\"\\nМатриця не має оберненої, оскільки її визначник дорівнює нулю.\")"
      ]
    },
    {
      "cell_type": "markdown",
      "metadata": {
        "id": "QwohJhJIrFB2"
      },
      "source": [
        "# Завдання 9\n",
        "1. Створіть матрицю розміром 3x3, заповніть її випадковими дійсними числами в\n",
        "діапазоні від 0 до 1 та транспонуйте її."
      ]
    },
    {
      "cell_type": "code",
      "execution_count": null,
      "metadata": {
        "id": "XDtvbdDIrFB2",
        "outputId": "a838bad6-91df-466f-fa88-5451c2f0c84b"
      },
      "outputs": [
        {
          "name": "stdout",
          "output_type": "stream",
          "text": [
            "Матриця 3x3:\n",
            "[[0.07 0.32 0.17]\n",
            " [0.3  0.12 0.28]\n",
            " [0.15 0.15 0.76]]\n",
            "\n",
            "Транспонована матриця:\n",
            "[[0.07 0.3  0.15]\n",
            " [0.32 0.12 0.15]\n",
            " [0.17 0.28 0.76]]\n"
          ]
        }
      ],
      "source": [
        "# Створення матриці 3x3 з випадковими дійсними числами в діапазоні від 0 до 1\n",
        "matr = np.random.rand(3, 3)\n",
        "\n",
        "# Виведення початкової матриці\n",
        "print(\"Матриця 3x3:\")\n",
        "rounded_matr = np.round(matr, 2)  # Округлення матриці\n",
        "print(rounded_matr)\n",
        "\n",
        "# Транспонування матриці\n",
        "transposed_matr = rounded_matr.T\n",
        "\n",
        "# Виведення транспонованої матриці\n",
        "print(\"\\nТранспонована матриця:\")\n",
        "print(transposed_matr)"
      ]
    },
    {
      "cell_type": "markdown",
      "metadata": {
        "id": "29Bj9X19rFB3"
      },
      "source": [
        "# Завдання 10\n",
        "1. Створіть матрицю розміром 3x4 та вектор розміром 4 x1, заповніть їх випадковими\n",
        "цілими числами в діапазоні від 1 до 10 та знайдіть добуток матриці на вектор."
      ]
    },
    {
      "cell_type": "code",
      "execution_count": null,
      "metadata": {
        "id": "DAkg3Yw7rFB3",
        "outputId": "c83b47a4-0775-476a-c1a9-763c11d3ef71"
      },
      "outputs": [
        {
          "name": "stdout",
          "output_type": "stream",
          "text": [
            "Матриця 3x4:\n",
            "[[ 7  7  8 10]\n",
            " [ 7  2  2  9]\n",
            " [ 2  9  4  6]]\n",
            "\n",
            "Вектор 4x1:\n",
            "[[5]\n",
            " [9]\n",
            " [6]\n",
            " [7]]\n",
            "\n",
            "Добуток матриці та вектора:\n",
            "[[216]\n",
            " [128]\n",
            " [157]]\n"
          ]
        }
      ],
      "source": [
        "# Створення матриці 3x4 з випадковими цілими числами в діапазоні від 1 до 10\n",
        "matr = np.random.randint(1, 11, size=(3, 4))\n",
        "\n",
        "# Створення вектора 4x1 з випадковими цілими числами в діапазоні від 1 до 10\n",
        "vector = np.random.randint(1, 11, size=(4, 1))\n",
        "\n",
        "# Виведення матриці та вектора\n",
        "print(\"Матриця 3x4:\")\n",
        "print(matr)\n",
        "\n",
        "print(\"\\nВектор 4x1:\")\n",
        "print(vector)\n",
        "\n",
        "# Знаходження добутку матриці та вектора\n",
        "product = np.dot(matr, vector)\n",
        "\n",
        "# Виведення результату\n",
        "print(\"\\nДобуток матриці та вектора:\")\n",
        "print(product)"
      ]
    },
    {
      "cell_type": "markdown",
      "metadata": {
        "id": "vGhFiG_ZrFB3"
      },
      "source": [
        "# Завдання 11\n",
        "1. Створіть матрицю розміром 2x3 та вектор розміром 3x1, заповніть матрицю\n",
        "випадковими цілими числами в діапазоні від 1 до 10, а вектор - випадковими цілими\n",
        "числами в діапазоні від 1 до 10, і знайдіть добуток матриці на вектор."
      ]
    },
    {
      "cell_type": "code",
      "execution_count": null,
      "metadata": {
        "id": "KuLjxMB7rFB3",
        "outputId": "98bbccf1-9719-4bb8-fce6-3c2d090e19be"
      },
      "outputs": [
        {
          "name": "stdout",
          "output_type": "stream",
          "text": [
            "Матриця 2x3:\n",
            "[[5 8 4]\n",
            " [3 7 3]]\n",
            "\n",
            "Вектор 3x1:\n",
            "[[ 4]\n",
            " [ 3]\n",
            " [10]]\n",
            "\n",
            "Добуток матриці та вектора:\n",
            "[[84]\n",
            " [63]]\n"
          ]
        }
      ],
      "source": [
        "# Створення матриці 2x3 з випадковими цілими числами від 1 до 10\n",
        "matr = np.random.randint(1, 11, size=(2, 3))\n",
        "\n",
        "# Створення вектора 3x1 з випадковими цілими числами від 1 до 10\n",
        "vector = np.random.randint(1, 11, size=(3, 1))\n",
        "\n",
        "# Виведення матриці та вектора\n",
        "print(\"Матриця 2x3:\")\n",
        "print(matr)\n",
        "\n",
        "print(\"\\nВектор 3x1:\")\n",
        "print(vector)\n",
        "\n",
        "# Знаходження добутку матриці та вектора\n",
        "product = np.dot(matr, vector)\n",
        "\n",
        "# Виведення результату\n",
        "print(\"\\nДобуток матриці та вектора:\")\n",
        "print(product)"
      ]
    },
    {
      "cell_type": "markdown",
      "metadata": {
        "id": "hqOF1-JOrFB3"
      },
      "source": [
        "# Завдання 12\n",
        "1. Створіть дві матриці розміром 2x2, заповніть їх випадковими цілими числами в\n",
        "діапазоні від 1 до 10 та знайдіть їхню суму."
      ]
    },
    {
      "cell_type": "code",
      "execution_count": null,
      "metadata": {
        "id": "qkD0_65KrFB4",
        "outputId": "449ba15e-3dac-4418-f2a3-cf0fd93ea46f"
      },
      "outputs": [
        {
          "name": "stdout",
          "output_type": "stream",
          "text": [
            "Перша матриця 2x2:\n",
            "[[5 5]\n",
            " [2 4]]\n",
            "\n",
            "Друга матриця 2x2:\n",
            "[[ 4  8]\n",
            " [10  7]]\n",
            "\n",
            "Сума двох матриць:\n",
            "[[ 9 13]\n",
            " [12 11]]\n"
          ]
        }
      ],
      "source": [
        "# Створення двох матриць 2x2 з випадковими цілими числами від 1 до 10\n",
        "matr1 = np.random.randint(1, 11, size=(2, 2))\n",
        "matr2 = np.random.randint(1, 11, size=(2, 2))\n",
        "\n",
        "# Виведення початкових матриць\n",
        "print(\"Перша матриця 2x2:\")\n",
        "print(matr1)\n",
        "\n",
        "print(\"\\nДруга матриця 2x2:\")\n",
        "print(matr2)\n",
        "\n",
        "# Обчислення суми матриць\n",
        "sum_matr = matr1 + matr2\n",
        "\n",
        "# Виведення результату\n",
        "print(\"\\nСума двох матриць:\")\n",
        "print(sum_matr)"
      ]
    },
    {
      "cell_type": "markdown",
      "metadata": {
        "id": "rssn9qoRrFB4"
      },
      "source": [
        "# Завдання 13\n",
        "1. Створіть дві матриці розміром 2x2, заповніть їх випадковими дійсними числами в\n",
        "діапазоні від 0 до 1 та знайдіть їх добуток."
      ]
    },
    {
      "cell_type": "code",
      "execution_count": null,
      "metadata": {
        "id": "83EpV-7zrFB4",
        "outputId": "49f224ac-4d6e-4c81-c8af-eef86fb01145"
      },
      "outputs": [
        {
          "name": "stdout",
          "output_type": "stream",
          "text": [
            "Перша матриця 2x2:\n",
            "[[0.96 0.97]\n",
            " [0.98 0.78]]\n",
            "\n",
            "Друга матриця 2x2:\n",
            "[[0.86 0.26]\n",
            " [0.91 0.47]]\n",
            "\n",
            "Добуток двох матриць:\n",
            "[[1.7  0.7 ]\n",
            " [1.55 0.62]]\n"
          ]
        }
      ],
      "source": [
        "# Створення двох матриць 2x2 з випадковими дійсними числами від 0 до 1\n",
        "matr1 = np.random.rand(2, 2)\n",
        "matr2 = np.random.rand(2, 2)\n",
        "\n",
        "# Виведення початкових матриць (округлені до 2 знаків для зручності)\n",
        "print(\"Перша матриця 2x2:\")\n",
        "print(np.round(matr1, 2))\n",
        "\n",
        "print(\"\\nДруга матриця 2x2:\")\n",
        "print(np.round(matr2, 2))\n",
        "\n",
        "# Обчислення добутку матриць\n",
        "product_matr = np.dot(matr1, matr2)\n",
        "\n",
        "# Виведення результату (також округлено)\n",
        "print(\"\\nДобуток двох матриць:\")\n",
        "print(np.round(product_matr, 2))"
      ]
    },
    {
      "cell_type": "markdown",
      "metadata": {
        "id": "aA7yhaAnrFB4"
      },
      "source": [
        "# Завдання 14\n",
        "1. Створіть матрицю розміром 5x5, заповніть її випадковими дійсними числами в\n",
        "діапазоні від 0 до 1 та знайдіть суму елементів матриці."
      ]
    },
    {
      "cell_type": "code",
      "execution_count": null,
      "metadata": {
        "id": "Hg36rIOYrFB4",
        "outputId": "db553275-13e9-45ce-ff6b-e2ade8040f8a"
      },
      "outputs": [
        {
          "name": "stdout",
          "output_type": "stream",
          "text": [
            "Матриця 5x5:\n",
            "[[0.76 0.37 0.25 0.83 0.28]\n",
            " [0.62 0.79 0.64 0.29 0.31]\n",
            " [0.99 0.27 0.44 0.93 0.65]\n",
            " [0.23 0.16 0.   0.   0.67]\n",
            " [0.21 0.18 0.59 0.83 0.62]]\n",
            "\n",
            "Сума всіх елементів матриці: 11.94\n"
          ]
        }
      ],
      "source": [
        "# Створення матриці 5x5 з випадковими дійсними числами від 0 до 1\n",
        "matr = np.random.rand(5, 5)\n",
        "\n",
        "# Виведення матриці (округленої до 2 знаків для зручності)\n",
        "print(\"Матриця 5x5:\")\n",
        "print(np.round(matr, 2))\n",
        "\n",
        "# Знаходження суми всіх елементів матриці\n",
        "sum_elements = np.sum(matr)\n",
        "\n",
        "# Виведення суми елементів матриці\n",
        "print(\"\\nСума всіх елементів матриці:\", round(sum_elements, 2))"
      ]
    },
    {
      "cell_type": "markdown",
      "metadata": {
        "id": "QdHoV4YHrFB4"
      },
      "source": [
        "# Завдання 15\n",
        "1. Створіть матрицю розміром 3x3, заповніть її випадковими дійсними числами в діапазоні від -1 до 1 та знайдіть вектор-стовпчик, що містить суму елементів кожного рядка матриці.\n"
      ]
    },
    {
      "cell_type": "code",
      "execution_count": null,
      "metadata": {
        "id": "AopAN13YrFB5",
        "outputId": "7b271c48-2220-4a43-f10f-5616c114d400"
      },
      "outputs": [
        {
          "name": "stdout",
          "output_type": "stream",
          "text": [
            "Матриця 3x3:\n",
            "[[-0.18  0.35 -0.98]\n",
            " [ 0.93 -0.72 -0.44]\n",
            " [ 0.47 -0.87 -0.43]]\n",
            "\n",
            "Вектор-стовпчик (сума елементів кожного рядка):\n",
            "[[-0.81]\n",
            " [-0.23]\n",
            " [-0.84]]\n"
          ]
        }
      ],
      "source": [
        "# Створення матриці 3x3 з випадковими дійсними числами від -1 до 1\n",
        "matr = np.random.uniform(-1, 1, (3, 3))\n",
        "\n",
        "# Виведення матриці (округленої до 2 знаків для зручності)\n",
        "print(\"Матриця 3x3:\")\n",
        "print(np.round(matr, 2))\n",
        "\n",
        "# Знаходження суми елементів кожного рядка та перетворення у вектор-стовпець\n",
        "sum_vector = np.sum(matr, axis=1).reshape(3, 1)\n",
        "\n",
        "# Виведення вектора-стовпця (округленого)\n",
        "print(\"\\nВектор-стовпчик (сума елементів кожного рядка):\")\n",
        "print(np.round(sum_vector, 2))"
      ]
    },
    {
      "cell_type": "markdown",
      "metadata": {
        "id": "lOMxTzA7rFB5"
      },
      "source": [
        "# Висновок\n",
        "Під час виконання цієї лабораторної роботи я набула практичних навичок створення та обробки масивів і матриць у Python за допомогою бібліотеки NumPy. Використання цієї бібліотеки значно спростило програмування та дозволило ефективно працювати з масивами та матрицями. Здобуті знання та навички є важливими для подальшого вивчення програмування та аналізу даних."
      ]
    }
  ],
  "metadata": {
    "kernelspec": {
      "display_name": "Python 3 (ipykernel)",
      "language": "python",
      "name": "python3"
    },
    "language_info": {
      "codemirror_mode": {
        "name": "ipython",
        "version": 3
      },
      "file_extension": ".py",
      "mimetype": "text/x-python",
      "name": "python",
      "nbconvert_exporter": "python",
      "pygments_lexer": "ipython3",
      "version": "3.11.0"
    },
    "colab": {
      "provenance": []
    }
  },
  "nbformat": 4,
  "nbformat_minor": 0
}